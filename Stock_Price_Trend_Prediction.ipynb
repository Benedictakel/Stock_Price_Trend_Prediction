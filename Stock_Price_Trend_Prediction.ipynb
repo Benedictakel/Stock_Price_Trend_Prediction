{
  "nbformat": 4,
  "nbformat_minor": 0,
  "metadata": {
    "colab": {
      "provenance": [],
      "authorship_tag": "ABX9TyN2HkSrtrDVGsbhCASwEgqt",
      "include_colab_link": true
    },
    "kernelspec": {
      "name": "python3",
      "display_name": "Python 3"
    },
    "language_info": {
      "name": "python"
    }
  },
  "cells": [
    {
      "cell_type": "markdown",
      "metadata": {
        "id": "view-in-github",
        "colab_type": "text"
      },
      "source": [
        "<a href=\"https://colab.research.google.com/github/Benedictakel/Stock_Price_Trend_Prediction/blob/main/Stock_Price_Trend_Prediction.ipynb\" target=\"_parent\"><img src=\"https://colab.research.google.com/assets/colab-badge.svg\" alt=\"Open In Colab\"/></a>"
      ]
    },
    {
      "cell_type": "code",
      "execution_count": null,
      "metadata": {
        "id": "Y3m62sIm_7sB"
      },
      "outputs": [],
      "source": [
        "!pip install yfinance\n",
        "\n",
        "import yfinance as yf\n",
        "import pandas as pd\n",
        "import numpy as np\n",
        "import matplotlib.pyplot as plt\n",
        "import seaborn as sns\n",
        "\n",
        "from sklearn.model_selection import train_test_split\n",
        "from sklearn.preprocessing import StandardScaler\n",
        "from sklearn.ensemble import RandomForestClassifier\n",
        "from sklearn.metrics import classification_report, accuracy_score, confusion_matrix\n"
      ]
    },
    {
      "cell_type": "code",
      "source": [
        "# Download Apple stock data as an example\n",
        "data = yf.download(\"AAPL\", start=\"2020-01-01\", end=\"2024-12-31\")\n",
        "\n",
        "data.head()\n"
      ],
      "metadata": {
        "id": "wqrHKve5AwHt"
      },
      "execution_count": null,
      "outputs": []
    },
    {
      "cell_type": "code",
      "source": [
        "# Create target column: 1 if next day's Close > today's Close, else 0\n",
        "data['Target'] = (data['Close'].shift(-1) > data['Close']).astype(int)\n",
        "\n",
        "# Drop last row with NaN target\n",
        "data.dropna(inplace=True)\n"
      ],
      "metadata": {
        "id": "nUhWVUjpA0qM"
      },
      "execution_count": null,
      "outputs": []
    },
    {
      "cell_type": "code",
      "source": [
        "# Use moving averages and daily returns as features\n",
        "data['MA5'] = data['Close'].rolling(window=5).mean()\n",
        "data['MA10'] = data['Close'].rolling(window=10).mean()\n",
        "data['MA20'] = data['Close'].rolling(window=20).mean()\n",
        "data['Return'] = data['Close'].pct_change()\n",
        "data['Volatility'] = data['Return'].rolling(5).std()\n",
        "\n",
        "# Drop rows with NaNs (from rolling calculations)\n",
        "data.dropna(inplace=True)\n"
      ],
      "metadata": {
        "id": "lyoQAAKOA6Tf"
      },
      "execution_count": null,
      "outputs": []
    },
    {
      "cell_type": "code",
      "source": [
        "features = ['Open', 'High', 'Low', 'Close', 'Volume', 'MA5', 'MA10', 'MA20', 'Return', 'Volatility']\n",
        "X = data[features]\n",
        "y = data['Target']\n",
        "\n",
        "# Train-test split\n",
        "X_train, X_test, y_train, y_test = train_test_split(X, y, shuffle=False, test_size=0.2)\n",
        "\n",
        "# Scale features\n",
        "scaler = StandardScaler()\n",
        "X_train_scaled = scaler.fit_transform(X_train)\n",
        "X_test_scaled = scaler.transform(X_test)\n"
      ],
      "metadata": {
        "id": "VnwnSOH4A--Z"
      },
      "execution_count": null,
      "outputs": []
    },
    {
      "cell_type": "code",
      "source": [
        "model = RandomForestClassifier(n_estimators=100, random_state=42)\n",
        "model.fit(X_train_scaled, y_train)\n"
      ],
      "metadata": {
        "id": "D-4cj9nRBEs0"
      },
      "execution_count": null,
      "outputs": []
    },
    {
      "cell_type": "code",
      "source": [
        "y_pred = model.predict(X_test_scaled)\n",
        "\n",
        "print(\"Accuracy:\", accuracy_score(y_test, y_pred))\n",
        "print(\"\\nClassification Report:\")\n",
        "print(classification_report(y_test, y_pred))\n",
        "\n",
        "# Confusion Matrix\n",
        "sns.heatmap(confusion_matrix(y_test, y_pred), annot=True, fmt=\"d\", cmap=\"Greens\")\n",
        "plt.xlabel(\"Predicted\")\n",
        "plt.ylabel(\"Actual\")\n",
        "plt.title(\"Confusion Matrix\")\n",
        "plt.show()\n"
      ],
      "metadata": {
        "id": "VyTQNcbWBIr8"
      },
      "execution_count": null,
      "outputs": []
    },
    {
      "cell_type": "code",
      "source": [
        "latest_data = X.tail(1)\n",
        "latest_scaled = scaler.transform(latest_data)\n",
        "next_day_trend = model.predict(latest_scaled)\n",
        "\n",
        "print(\"Prediction for Next Day:\", \"🔼 Up\" if next_day_trend[0] == 1 else \"🔽 Down\")\n"
      ],
      "metadata": {
        "id": "Fsx822siBIhh"
      },
      "execution_count": null,
      "outputs": []
    }
  ]
}